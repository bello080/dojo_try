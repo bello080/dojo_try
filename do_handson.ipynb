{
  "nbformat": 4,
  "nbformat_minor": 0,
  "metadata": {
    "colab": {
      "name": "tryMNIST.ipynb",
      "provenance": [],
      "collapsed_sections": [],
      "include_colab_link": true
    },
    "kernelspec": {
      "name": "python3",
      "display_name": "Python 3"
    },
    "language_info": {
      "name": "python"
    }
  },
  "cells": [
    {
      "cell_type": "markdown",
      "metadata": {
        "id": "view-in-github",
        "colab_type": "text"
      },
      "source": [
        "<a href=\"https://colab.research.google.com/github/bello080/dojo_try/blob/test1/do_handson.ipynb\" target=\"_parent\"><img src=\"https://colab.research.google.com/assets/colab-badge.svg\" alt=\"Open In Colab\"/></a>"
      ]
    },
    {
      "cell_type": "code",
      "metadata": {
        "colab": {
          "base_uri": "https://localhost:8080/"
        },
        "id": "foTRNvFUd7As",
        "outputId": "3b1cbae8-48f8-44ba-fa99-25661adcf0c7"
      },
      "source": [
        "!pwd\n",
        "!ls"
      ],
      "execution_count": null,
      "outputs": [
        {
          "output_type": "stream",
          "name": "stdout",
          "text": [
            "/content\n",
            "sample_data\n"
          ]
        }
      ]
    },
    {
      "cell_type": "markdown",
      "metadata": {
        "id": "qyWr5AzMhMxu"
      },
      "source": [
        " １．MNISTデータセットを入手する\n",
        " \n",
        "\n",
        "*  　importエラーを解消する。❗\n",
        "*   train画像数を確認する❗\n",
        "*   train画像を確認する❗\n",
        "*   test画像数を確認する❗\n",
        "*   test画像を確認する❗\n",
        "*   精度を高める\n",
        "\n",
        "\n",
        "\n",
        "\n",
        "\n",
        "\n",
        "\n",
        "\n"
      ]
    },
    {
      "cell_type": "code",
      "metadata": {
        "id": "z97ixmEPeC2F"
      },
      "source": [
        "import tensorflow as tf\n",
        "from keras.datasets import mnist\n",
        "from keras.utils import to_categorical\n",
        "# from tensorflow.keras.utils import to_categorical\n",
        "\n",
        "#下のはあとで使うから置いといてあげて\n",
        "from keras.models import Sequential\n",
        "from keras.layers import Dense, Dropout, Activation, Flatten, Conv2D, MaxPooling2D\n",
        "\n",
        "#データセットのロード(トレーニング用とテスト用で分かれている)\n",
        "(X_train, Y_train), (X_test,Y_test) = mnist.load_data()\n",
        "\n",
        "image_rows = 28\n",
        "image_cols = 28\n",
        "image_color = 1 #グレースケールのこと\n",
        "input_shape = (image_rows, image_cols, image_color)\n",
        "out_size = 10\n",
        "\n"
      ],
      "execution_count": null,
      "outputs": []
    },
    {
      "cell_type": "code",
      "metadata": {
        "colab": {
          "base_uri": "https://localhost:8080/",
          "height": 224
        },
        "id": "Ag0FjOleAMcG",
        "outputId": "332b8c41-6c6b-45e1-a7f4-163346cf587d"
      },
      "source": [
        "# MNIST画像を表示する\n",
        "import matplotlib.pyplot as plt\n",
        "\n",
        "# fig, ax = plt.subplots(\n",
        "#     nrows=2,\n",
        "#     ncols=5,\n",
        "#     sharex=True,\n",
        "#     sharey=True, )\n",
        "\n",
        "# ax = ax.flatten()\n",
        "# train画像を表示する　START\n",
        "# for i in range(10):\n",
        "#     img = X_train[Y_train == i][0].reshape(28, 28)\n",
        "#     ax[i].imshow(img, cmap='Greys', interpolation='nearest')\n",
        "\n",
        "# ax[0].set_xticks([])\n",
        "# ax[0].set_yticks([])\n",
        "# plt.tight_layout()\n",
        "# plt.show()\n",
        "# train画像を表示する　END\n",
        "\n"
      ],
      "execution_count": null,
      "outputs": [
        {
          "output_type": "display_data",
          "data": {
            "image/png": "[encoded data removed]",
            "text/plain": [
              "<Figure size 432x288 with 10 Axes>"
            ]
          },
          "metadata": {}
        }
      ]
    },
    {
      "cell_type": "code",
      "metadata": {
        "colab": {
          "base_uri": "https://localhost:8080/",
          "height": 224
        },
        "id": "qEeVBQBQCey2",
        "outputId": "4319a283-b08d-49c5-b870-d3abcf8b94b7"
      },
      "source": [
        "# fig, ax = plt.subplots(\n",
        "#     nrows=2,\n",
        "#     ncols=5,\n",
        "#     sharex=True,\n",
        "#     sharey=True, )\n",
        "\n",
        "# ax = ax.flatten()\n",
        "\n",
        "# test画像を表示する　START\n",
        "# for i in range(10):\n",
        "#     img = X_test[Y_test == i][0].reshape(28, 28)\n",
        "#     ax[i].imshow(img, cmap='Greys', interpolation='nearest')\n",
        "\n",
        "# ax[0].set_xticks([])\n",
        "# ax[0].set_yticks([])\n",
        "# plt.tight_layout()\n",
        "# plt.show()\n",
        "# test画像を表示する　END\n"
      ],
      "execution_count": null,
      "outputs": [
        {
          "output_type": "display_data",
          "data": {
            "image/png": "[encoded data removed]",
            "text/plain": [
              "<Figure size 432x288 with 10 Axes>"
            ]
          },
          "metadata": {}
        }
      ]
    },
    {
      "cell_type": "code",
      "metadata": {
        "colab": {
          "base_uri": "https://localhost:8080/"
        },
        "id": "x6t1dWKI_TIT",
        "outputId": "64bef2a4-1305-4c1b-abb4-693ae4def928"
      },
      "source": [
        "# 画像数を確認する\n",
        "# train画像数を確認する START\n",
        "# print('train: ', X_train.shape)\n",
        "# train画像数を確認する END\n",
        "# test画像数を確認する START\n",
        "# print('test: ', X_test.shape)\n",
        "# test画像数を確認する END\n"
      ],
      "execution_count": null,
      "outputs": [
        {
          "output_type": "stream",
          "name": "stdout",
          "text": [
            "train:  (60000, 28, 28)\n",
            "(60000, 28, 28)\n",
            "test:  (10000, 28, 28)\n"
          ]
        }
      ]
    },
    {
      "cell_type": "code",
      "metadata": {
        "id": "mnCbPxvOCEkz"
      },
      "source": [
        "#データ整形\n",
        "X_train = X_train.reshape(-1, image_rows, image_cols, image_color) / 255\n",
        "X_test = X_test.reshape(-1, image_rows, image_cols, image_color) / 255\n",
        "\n",
        "Y_train = to_categorical(Y_train,out_size)\n",
        "Y_test = to_categorical(Y_test,out_size)"
      ],
      "execution_count": null,
      "outputs": []
    },
    {
      "cell_type": "code",
      "metadata": {
        "colab": {
          "base_uri": "https://localhost:8080/"
        },
        "id": "A3HyE3mqfsqJ",
        "outputId": "239e5292-0aa6-4a4c-e622-ef235492cc37"
      },
      "source": [
        "#CNNモデル構築\n",
        "model = Sequential()\n",
        "#convolutional layer 1\n",
        "model.add(Conv2D(8, (3, 3), input_shape=input_shape))\n",
        "model.add(Activation('relu'))\n",
        "model.add(Conv2D(8, (3, 3)))\n",
        "model.add(Activation('relu'))\n",
        "model.add(MaxPooling2D(pool_size=(2, 2)))\n",
        "model.add(Dropout(0.25))\n",
        "\n",
        "# 精度を高める START\n",
        "#convolutional layer 2\n",
        "# model.add(Conv2D(16, (3, 3)))\n",
        "# model.add(Activation('relu'))\n",
        "# model.add(Conv2D(16, (3, 3)))\n",
        "# model.add(Activation('relu'))\n",
        "# model.add(MaxPooling2D(pool_size=(2, 2)))\n",
        "# model.add(Dropout(0.25))\n",
        "# 精度を高める END\n",
        "\n",
        "model.add(Flatten())\n",
        "model.add(Dense(32))\n",
        "model.add(Activation('relu'))\n",
        "model.add(Dropout(0.5))\n",
        "model.add(Dense(out_size))\n",
        "model.add(Activation('softmax'))\n",
        "\n",
        "model.compile(\n",
        "    loss='categorical_crossentropy',\n",
        "    optimizer='adam',\n",
        "    metrics=['accuracy']\n",
        ")\n",
        "\n",
        "model.fit(\n",
        "  X_train, Y_train,\n",
        "  batch_size=128, epochs=1,verbose=1,\n",
        "  validation_data=(X_test, Y_test)\n",
        ")"
      ],
      "execution_count": null,
      "outputs": [
        {
          "output_type": "stream",
          "name": "stdout",
          "text": [
            "469/469 [==============================] - 36s 75ms/step - loss: 0.8919 - accuracy: 0.6995 - val_loss: 0.1562 - val_accuracy: 0.9558\n"
          ]
        },
        {
          "output_type": "execute_result",
          "data": {
            "text/plain": [
              "<keras.callbacks.History at 0x7f3ed903be90>"
            ]
          },
          "metadata": {},
          "execution_count": 15
        }
      ]
    },
    {
      "cell_type": "code",
      "metadata": {
        "id": "TwtibvWbjoyE"
      },
      "source": [
        "#モデルを保存\n",
        "model.save('MNIST-model.h5')\n",
        "#重みデータを保存\n",
        "model.save_weights('MNIST-weights.h5')"
      ],
      "execution_count": null,
      "outputs": []
    },
    {
      "cell_type": "code",
      "metadata": {
        "colab": {
          "base_uri": "https://localhost:8080/"
        },
        "id": "nRE7Fx7Rk9yk",
        "outputId": "c293d643-8274-451a-ead1-88da10ec5784"
      },
      "source": [
        "score = model.evaluate(X_test, Y_test, verbose=1)\n",
        "print('正解率...', score[1], 'loss=', score[0])"
      ],
      "execution_count": null,
      "outputs": [
        {
          "output_type": "stream",
          "name": "stdout",
          "text": [
            "313/313 [==============================] - 3s 8ms/step - loss: 0.1411 - accuracy: 0.9588\n",
            "正解率... 0.9588000178337097 loss= 0.14109623432159424\n"
          ]
        }
      ]
    },
    {
      "cell_type": "code",
      "metadata": {
        "id": "O7Yd4-fSEswv"
      },
      "source": [
        ""
      ],
      "execution_count": null,
      "outputs": []
    }
  ]
}