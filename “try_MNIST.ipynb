{
  "nbformat": 4,
  "nbformat_minor": 0,
  "metadata": {
    "colab": {
      "name": "“try_MNIST",
      "provenance": [],
      "toc_visible": true,
      "authorship_tag": "ABX9TyN6P61PhzdUgTUwtWwnBbei",
      "include_colab_link": true
    },
    "kernelspec": {
      "name": "python3",
      "display_name": "Python 3"
    },
    "language_info": {
      "name": "python"
    }
  },
  "cells": [
    {
      "cell_type": "markdown",
      "metadata": {
        "id": "view-in-github",
        "colab_type": "text"
      },
      "source": [
        "<a href=\"https://colab.research.google.com/github/bello080/dojo_try/blob/try/%E2%80%9Ctry_MNIST.ipynb\" target=\"_parent\"><img src=\"https://colab.research.google.com/assets/colab-badge.svg\" alt=\"Open In Colab\"/></a>"
      ]
    },
    {
      "cell_type": "code",
      "metadata": {
        "colab": {
          "base_uri": "https://localhost:8080/"
        },
        "id": "foTRNvFUd7As",
        "outputId": "aaac3dd8-7e3a-4282-c806-2de59772c8f5"
      },
      "source": [
        "!pwd\n",
        "!ls"
      ],
      "execution_count": null,
      "outputs": [
        {
          "output_type": "stream",
          "name": "stdout",
          "text": [
            "/content\n",
            "sample_data\n"
          ]
        }
      ]
    },
    {
      "cell_type": "markdown",
      "metadata": {
        "id": "qyWr5AzMhMxu"
      },
      "source": [
        " １．MNISTデータセットを入手する\n",
        " \n",
        "\n",
        "*  　importエラーを解消する。❗\n",
        "*   train画像数を確認する❗\n",
        "*   train画像を確認する❗\n",
        "*   test画像を確認する❗\n",
        "*   test画像数を確認する❗\n",
        "\n",
        "\n",
        "\n",
        "\n",
        "\n",
        "\n"
      ]
    },
    {
      "cell_type": "code",
      "metadata": {
        "id": "z97ixmEPeC2F",
        "colab": {
          "base_uri": "https://localhost:8080/"
        },
        "outputId": "5d34d5f6-4f10-45cf-de89-6d85fe51f5a4"
      },
      "source": [
        "import tensorflow as tf\n",
        "from keras.datasets import mnist\n",
        "# from keras.utils import to_categorical\n",
        "from tensorflow.keras.utils import to_categorical\n",
        "#下のはあとで使うから置いといてあげて\n",
        "from keras.models import Sequential\n",
        "from keras.layers import Dense, Dropout, Activation, Flatten, Conv2D, MaxPooling2D\n",
        "\n",
        "#データセットのロード(トレーニング用とテスト用で分かれている)\n",
        "(X_train, Y_train), (X_test,Y_test) = mnist.load_data()\n",
        "\n",
        "image_rows = 28\n",
        "image_cols = 28\n",
        "image_color = 1 #グレースケールのこと\n",
        "input_shape = (image_rows, image_cols, image_color)\n",
        "out_size = 10\n",
        "\n"
      ],
      "execution_count": null,
      "outputs": [
        {
          "output_type": "stream",
          "name": "stdout",
          "text": [
            "Downloading data from https://storage.googleapis.com/tensorflow/tf-keras-datasets/mnist.npz\n",
            "11493376/11490434 [==============================] - 0s 0us/step\n",
            "11501568/11490434 [==============================] - 0s 0us/step\n"
          ]
        }
      ]
    },
    {
      "cell_type": "code",
      "metadata": {
        "colab": {
          "base_uri": "https://localhost:8080/",
          "height": 224
        },
        "id": "Ag0FjOleAMcG",
        "outputId": "41dd1193-f2ba-4b09-9440-9cef05bb7c71"
      },
      "source": [
        "# MNIST画像を表示する\n",
        "import matplotlib.pyplot as plt\n",
        "\n",
        "fig, ax = plt.subplots(\n",
        "    nrows=2,\n",
        "    ncols=5,\n",
        "    sharex=True,\n",
        "    sharey=True, )\n",
        "\n",
        "ax = ax.flatten()\n",
        "for i in range(10):\n",
        "    img = X_train[Y_train == i][0].reshape(28, 28)\n",
        "    ax[i].imshow(img, cmap='Greys', interpolation='nearest')\n",
        "\n",
        "ax[0].set_xticks([])\n",
        "ax[0].set_yticks([])\n",
        "plt.tight_layout()\n",
        "plt.show()"
      ],
      "execution_count": null,
      "outputs": [
        {
          "output_type": "display_data",
          "data": {
            "image/png": "[encoded data removed]",
            "text/plain": [
              "<Figure size 432x288 with 10 Axes>"
            ]
          },
          "metadata": {}
        }
      ]
    },
    {
      "cell_type": "markdown",
      "metadata": {
        "id": "yfEWMe9YhKb_"
      },
      "source": [
        ""
      ]
    },
    {
      "cell_type": "code",
      "metadata": {
        "id": "mnCbPxvOCEkz"
      },
      "source": [
        "#データ整形\n",
        "X_train = X_train.reshape(-1, image_rows, image_cols, image_color) / 255\n",
        "X_test = X_test.reshape(-1, image_rows, image_cols, image_color) / 255\n",
        "\n",
        "Y_train = to_categorical(Y_train,out_size)\n",
        "Y_test = to_categorical(Y_test,out_size)"
      ],
      "execution_count": null,
      "outputs": []
    },
    {
      "cell_type": "code",
      "metadata": {
        "colab": {
          "base_uri": "https://localhost:8080/"
        },
        "id": "A3HyE3mqfsqJ",
        "outputId": "f0b36094-a036-4f08-a00b-91bf84fcadb5"
      },
      "source": [
        "#CNNモデル構築\n",
        "model = Sequential()\n",
        "#convolutional layer 1\n",
        "model.add(Conv2D(32, (3, 3), input_shape=input_shape))\n",
        "model.add(Activation('relu'))\n",
        "model.add(Conv2D(32, (3, 3)))\n",
        "model.add(Activation('relu'))\n",
        "model.add(MaxPooling2D(pool_size=(2, 2)))\n",
        "model.add(Dropout(0.25))\n",
        "\n",
        "#convolutional layer 2\n",
        "model.add(Conv2D(64, (3, 3)))\n",
        "model.add(Activation('relu'))\n",
        "model.add(Conv2D(64, (3, 3)))\n",
        "model.add(Activation('relu'))\n",
        "model.add(MaxPooling2D(pool_size=(2, 2)))\n",
        "model.add(Dropout(0.25))\n",
        "\n",
        "model.add(Flatten())\n",
        "model.add(Dense(512))\n",
        "model.add(Activation('relu'))\n",
        "model.add(Dropout(0.5))\n",
        "model.add(Dense(out_size))\n",
        "model.add(Activation('softmax'))\n",
        "\n",
        "model.compile(\n",
        "    loss='categorical_crossentropy',\n",
        "    optimizer='adam',\n",
        "    metrics=['accuracy']\n",
        ")\n",
        "\n",
        "model.fit(\n",
        "  X_train, Y_train,\n",
        "  batch_size=128, epochs=2,verbose=1,\n",
        "  validation_data=(X_test, Y_test)\n",
        ")"
      ],
      "execution_count": null,
      "outputs": [
        {
          "output_type": "stream",
          "name": "stdout",
          "text": [
            "Epoch 1/2\n",
            "469/469 [==============================] - 138s 292ms/step - loss: 0.2347 - accuracy: 0.9246 - val_loss: 0.0507 - val_accuracy: 0.9831\n",
            "Epoch 2/2\n",
            "469/469 [==============================] - 137s 292ms/step - loss: 0.0662 - accuracy: 0.9792 - val_loss: 0.0291 - val_accuracy: 0.9907\n"
          ]
        },
        {
          "output_type": "execute_result",
          "data": {
            "text/plain": [
              "<keras.callbacks.History at 0x7f64c998b9d0>"
            ]
          },
          "metadata": {},
          "execution_count": 3
        }
      ]
    },
    {
      "cell_type": "code",
      "metadata": {
        "id": "TwtibvWbjoyE"
      },
      "source": [
        "#モデルを保存\n",
        "model.save('MNIST-model.h5')\n",
        "#重みデータを保存\n",
        "model.save_weights('MNIST-weights.h5')"
      ],
      "execution_count": null,
      "outputs": []
    },
    {
      "cell_type": "code",
      "metadata": {
        "colab": {
          "base_uri": "https://localhost:8080/"
        },
        "id": "nRE7Fx7Rk9yk",
        "outputId": "c0959edc-5350-4baa-953a-29eba300f765"
      },
      "source": [
        "score = model.evaluate(X_test, Y_test, verbose=1)\n",
        "print('正解率...', score[1], 'loss=', score[0])"
      ],
      "execution_count": null,
      "outputs": [
        {
          "output_type": "stream",
          "name": "stdout",
          "text": [
            "313/313 [==============================] - 7s 22ms/step - loss: 0.0291 - accuracy: 0.9907\n",
            "正解率... 0.9907000064849854 loss= 0.02905348129570484\n"
          ]
        }
      ]
    },
    {
      "cell_type": "code",
      "metadata": {
        "id": "0srdMacBlAN6"
      },
      "source": [
        "# NEW"
      ],
      "execution_count": null,
      "outputs": []
    }
  ]
}